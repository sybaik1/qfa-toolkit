{
 "cells": [
  {
   "cell_type": "code",
   "execution_count": 1,
   "id": "eadf44a3-c6e6-4ecb-9d6a-1c5c5566a4b6",
   "metadata": {},
   "outputs": [],
   "source": [
    "import numpy as np\n",
    "import json\n",
    "from matplotlib import pyplot as plt"
   ]
  },
  {
   "cell_type": "code",
   "execution_count": 2,
   "id": "3fa0cb2f-f0c6-4e46-b50f-8745d68e6f69",
   "metadata": {},
   "outputs": [],
   "source": [
    "def load_data(p: int, k: int) -> dict[dict[str, float], dict[str, float]]:\n",
    "    with open(f\"../../results/{p}_{k}_observed.json\", \"r\") as f:\n",
    "        line = f.readline()\n",
    "        idx = line.index(']')\n",
    "        observed_acceptance, observed_rejection = tuple(json.loads(line[:idx+1]))\n",
    "        target_rejection, target_acceptance = tuple(json.loads(line[idx+1:]))\n",
    "        observed = {\n",
    "            'acceptance': observed_acceptance,\n",
    "            'undefined': 1 - observed_acceptance - observed_rejection,\n",
    "            'rejection': observed_rejection,\n",
    "        }\n",
    "        target = {\n",
    "            'acceptance': target_acceptance,\n",
    "            'rejection': target_rejection,\n",
    "        }\n",
    "        return {'observed': observed, 'tareget': target}"
   ]
  },
  {
   "cell_type": "code",
   "execution_count": 3,
   "id": "814cee8d-499e-4cf3-8265-832af34a4702",
   "metadata": {},
   "outputs": [],
   "source": [
    "ps = [3, 5]\n",
    "data_dict = {\n",
    "    p: {k: load_data(p, k) for k in range(1, 11)}\n",
    "    for p in ps\n",
    "}"
   ]
  },
  {
   "cell_type": "code",
   "execution_count": 4,
   "id": "8e312883-9196-48cf-9ed2-e92b131b07c2",
   "metadata": {
    "lines_to_next_cell": 2
   },
   "outputs": [],
   "source": [
    "p = 5\n",
    "labels = data_dict[p].keys()\n",
    "observed_acceptances = np.array([data_dict[p][label]['observed']['acceptance'] for label in labels])\n",
    "observed_rejections = np.array([data_dict[p][label]['observed']['rejection'] for label in labels])\n",
    "xs = observed_acceptances"
   ]
  },
  {
   "cell_type": "code",
   "execution_count": 5,
   "id": "fde4b2b0-b828-4853-801c-49f309b79b6f",
   "metadata": {},
   "outputs": [
    {
     "name": "stdout",
     "output_type": "stream",
     "text": [
      "[0.40414951 0.39918948 0.38888158 0.39731916 0.40641381 0.40061868\n",
      " 0.40125096 0.40271844 0.38227771 0.44499793]\n"
     ]
    },
    {
     "data": {
      "text/plain": [
       "<BarContainer object of 10 artists>"
      ]
     },
     "execution_count": 5,
     "metadata": {},
     "output_type": "execute_result"
    },
    {
     "data": {
      "image/png": "[encoded data removed]",
      "text/plain": [
       "<Figure size 640x480 with 1 Axes>"
      ]
     },
     "metadata": {},
     "output_type": "display_data"
    }
   ],
   "source": [
    "print(xs)\n",
    "plt.bar(labels, xs)"
   ]
  },
  {
   "cell_type": "code",
   "execution_count": null,
   "id": "959b46a9-ac3a-4a42-b100-0f74e29b73c5",
   "metadata": {},
   "outputs": [],
   "source": []
  }
 ],
 "metadata": {
  "kernelspec": {
   "display_name": "Python 3 (ipykernel)",
   "language": "python",
   "name": "python3"
  },
  "language_info": {
   "codemirror_mode": {
    "name": "ipython",
    "version": 3
   },
   "file_extension": ".py",
   "mimetype": "text/x-python",
   "name": "python",
   "nbconvert_exporter": "python",
   "pygments_lexer": "ipython3",
   "version": "3.9.18"
  }
 },
 "nbformat": 4,
 "nbformat_minor": 5
}
