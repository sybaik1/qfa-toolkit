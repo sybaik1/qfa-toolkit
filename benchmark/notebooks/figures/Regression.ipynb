{
 "cells": [
  {
   "cell_type": "code",
   "execution_count": null,
   "id": "afb60411-f3e6-46b2-9871-3a9ff3f659c7",
   "metadata": {},
   "outputs": [],
   "source": [
    "import numpy as np\n",
    "from sklearn.metrics import mean_absolute_error, mean_squared_error, mean_squared_log_error, r2_score\n",
    "\n",
    "\n",
    "# Mean absolute Error\n",
    "def MAE(y_test, y_pred):\n",
    "    return mean_absolute_error(y_test,y_pred)\n",
    "\n",
    "# Mean Squared Error\n",
    "def MSE(y_test, y_pred):\n",
    "    return mean_squared_error(y_test, y_pred)\n",
    "\n",
    "# Root Mean Square Error\n",
    "def RMSE(y_test, y_pred):\n",
    "    return np.sqrt(MSE(y_test, y_pred))\n",
    "\n",
    "# Root Mean Squared Error\n",
    "def RMSSE(y_ture, y_pred, y_test): \n",
    "    n = len(y_test)\n",
    "    numerator = np.mean(np.sum(np.square(y_true - y_pred)))\n",
    "    denominator = 1/(n-1)*np.sum(np.square((y_test[1:] - y_test[:-1])))\n",
    "    msse = numerator/denominator\n",
    "    return np.sqrt(msse)\n",
    "\n",
    "# Mean Squared Log Error\n",
    "def MSLE(y_test, y_pred):\n",
    "    return mean_squared_log_error(y_test, y_pred)\n",
    "\n",
    "# Root Mean Squared Log Error\n",
    "def RMSLE(y_test, y_pred):\n",
    "    return np.sqrt(mean_squared_log_error(y_test, y_pred))\n",
    "\n",
    "# Mean Percentage Error\n",
    "def MPE(y_test, y_pred):\n",
    "\treturn np.mean((y_test, y_pred) / y_test * 100)\n",
    "\n",
    "# Mean Absolute Percentage Error\n",
    "def MAPE(y_test, y_pred):\n",
    "    return np.mean(np.abs((y_test - y_pred) / y_test)) * 100\n",
    "\n",
    "# Symmetric Mean Absolute Percentage Error\n",
    "def SMAPE(y_test, y_pred):\n",
    "\treturn np.mean((np.abs(y_test-y_pred))/(np.abs(y_test)+np.abs(y_pred)))*100"
   ]
  }
 ],
 "metadata": {
  "kernelspec": {
   "display_name": "Python 3 (ipykernel)",
   "language": "python",
   "name": "python3"
  },
  "language_info": {
   "codemirror_mode": {
    "name": "ipython",
    "version": 3
   },
   "file_extension": ".py",
   "mimetype": "text/x-python",
   "name": "python",
   "nbconvert_exporter": "python",
   "pygments_lexer": "ipython3",
   "version": "3.9.18"
  }
 },
 "nbformat": 4,
 "nbformat_minor": 5
}
