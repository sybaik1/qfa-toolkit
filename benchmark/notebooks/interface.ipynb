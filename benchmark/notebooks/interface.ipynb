{
 "cells": [
  {
   "cell_type": "code",
   "execution_count": 1,
   "id": "38060582",
   "metadata": {
    "lines_to_next_cell": 2
   },
   "outputs": [],
   "source": [
    "import json\n",
    "from pathlib import Path\n",
    "\n",
    "from qiskit_ibm_runtime import QiskitRuntimeService, Sampler  # type: ignore\n",
    "from qiskit.transpiler.preset_passmanagers import (  # type: ignore\n",
    "        generate_preset_pass_manager)\n",
    "from qiskit import qpy  # type: ignore\n",
    "\n",
    "from qfa_toolkit.quantum_finite_automaton_language import (\n",
    "    MeasureOnceQuantumFiniteAutomatonLanguage as Moqfl)\n",
    "from qfa_toolkit.qiskit_converter import (\n",
    "    QiskitMeasureOnceQuantumFiniteAutomaton as QMoqfa)"
   ]
  },
  {
   "cell_type": "code",
   "execution_count": 2,
   "id": "ee761c59",
   "metadata": {},
   "outputs": [
    {
     "name": "stdout",
     "output_type": "stream",
     "text": [
      "backend: <IBMBackend('ibm_cusco')>\n"
     ]
    }
   ],
   "source": [
    "min_num_qubits = 6\n",
    "service = QiskitRuntimeService()\n",
    "backend = service.least_busy(\n",
    "    min_num_qubits=min_num_qubits, operational=True, simulator=False)\n",
    "print(f\"backend: {backend}\")"
   ]
  },
  {
   "cell_type": "code",
   "execution_count": 3,
   "id": "3338641c",
   "metadata": {},
   "outputs": [],
   "source": [
    "results_dir = Path(\"../results\")\n",
    "circuits_dir = results_dir / \"circuits\"\n",
    "circuits_dir.mkdir(parents=True, exist_ok=True)"
   ]
  },
  {
   "cell_type": "code",
   "execution_count": 9,
   "id": "ed6ad73c",
   "metadata": {},
   "outputs": [
    {
     "name": "stdout",
     "output_type": "stream",
     "text": [
      "prime: 3\n",
      "job id: cr9xpz3szxr00084a7ng\n"
     ]
    },
    {
     "ename": "AttributeError",
     "evalue": "'QiskitMeasureOnceQuantumFiniteAutomaton' object has no attribute 'rejection_states'",
     "output_type": "error",
     "traceback": [
      "\u001b[0;31m---------------------------------------------------------------------------\u001b[0m",
      "\u001b[0;31mAttributeError\u001b[0m                            Traceback (most recent call last)",
      "Cell \u001b[0;32mIn[9], line 26\u001b[0m\n\u001b[1;32m     23\u001b[0m counts \u001b[38;5;241m=\u001b[39m {\u001b[38;5;28mint\u001b[39m(k): v \u001b[38;5;28;01mfor\u001b[39;00m k, v \u001b[38;5;129;01min\u001b[39;00m result\u001b[38;5;241m.\u001b[39mquasi_dists[\u001b[38;5;241m0\u001b[39m]\u001b[38;5;241m.\u001b[39mitems()}\n\u001b[1;32m     25\u001b[0m accepting_states \u001b[38;5;241m=\u001b[39m qmoqfa\u001b[38;5;241m.\u001b[39maccepting_states\n\u001b[0;32m---> 26\u001b[0m rejection_states \u001b[38;5;241m=\u001b[39m \u001b[43mqmoqfa\u001b[49m\u001b[38;5;241;43m.\u001b[39;49m\u001b[43mrejection_states\u001b[49m\n\u001b[1;32m     27\u001b[0m observed_acceptance \u001b[38;5;241m=\u001b[39m \u001b[38;5;28msum\u001b[39m(\n\u001b[1;32m     28\u001b[0m     counts[state] \u001b[38;5;28;01mfor\u001b[39;00m state \u001b[38;5;129;01min\u001b[39;00m qmoqfa\u001b[38;5;241m.\u001b[39maccepting_states)\n\u001b[1;32m     29\u001b[0m observed_rejection \u001b[38;5;241m=\u001b[39m \u001b[38;5;28msum\u001b[39m(\n\u001b[1;32m     30\u001b[0m     counts[state] \u001b[38;5;28;01mfor\u001b[39;00m state \u001b[38;5;129;01min\u001b[39;00m qmoqfa\u001b[38;5;241m.\u001b[39mrejection_states)\n",
      "\u001b[0;31mAttributeError\u001b[0m: 'QiskitMeasureOnceQuantumFiniteAutomaton' object has no attribute 'rejection_states'"
     ]
    }
   ],
   "source": [
    "primes = [3, 5, 7, 11]\n",
    "pm = generate_preset_pass_manager(optimization_level=3, backend=backend)\n",
    "\n",
    "for prime in primes:\n",
    "    print(f\"prime: {prime}\")\n",
    "    moqfl = Moqfl.from_modulo_prime(prime)\n",
    "    qmoqfa = QMoqfa(moqfl.quantum_finite_automaton)\n",
    "    for k in range(0, 2 * prime + 1):\n",
    "        w = [1] * k\n",
    "        circuit = qmoqfa.get_circuit_for_string(w)\n",
    "        transpiled_circuit = pm.run(circuit)\n",
    "\n",
    "        with open(circuits_dir / f\"{prime}_{k}.qpy\", 'wb') as f:\n",
    "            qpy.dump(transpiled_circuit, f)\n",
    "\n",
    "        job = Sampler(backend).run(transpiled_circuit, shots=10000)\n",
    "        print(f\"job id: {job.job_id()}\")\n",
    "\n",
    "        result = job.result()\n",
    "        with open(results_dir / f\"{prime}_{k}.json\", 'w') as f:\n",
    "            json.dump(result.quasi_dists[0], f)\n",
    "\n",
    "        counts = {int(k): v for k, v in result.quasi_dists[0].items()}\n",
    "\n",
    "        accepting_states = qmoqfa.accepting_states\n",
    "        rejection_states = qmoqfa.rejection_states\n",
    "        observed_acceptance = sum(\n",
    "            counts[state] for state in qmoqfa.accepting_states)\n",
    "        observed_rejection = sum(\n",
    "            counts[state] for state in qmoqfa.rejection_states)\n",
    "        observed = {\n",
    "            'observed_acceptance': observed_acceptance,\n",
    "            'observed_rejction': observed_rejection\n",
    "        }\n",
    "\n",
    "        with open(f\"results/{prime}_{k}_observed.json\", 'w') as f:\n",
    "            json.dump(observed, f)"
   ]
  },
  {
   "cell_type": "code",
   "execution_count": null,
   "id": "c6ef9b17-2d4d-4b08-b8c7-e259066d24c9",
   "metadata": {},
   "outputs": [],
   "source": []
  }
 ],
 "metadata": {
  "jupytext": {
   "cell_metadata_filter": "-all",
   "main_language": "python",
   "notebook_metadata_filter": "-all"
  },
  "kernelspec": {
   "display_name": "Python 3 (ipykernel)",
   "language": "python",
   "name": "python3"
  },
  "language_info": {
   "codemirror_mode": {
    "name": "ipython",
    "version": 3
   },
   "file_extension": ".py",
   "mimetype": "text/x-python",
   "name": "python",
   "nbconvert_exporter": "python",
   "pygments_lexer": "ipython3",
   "version": "3.9.18"
  }
 },
 "nbformat": 4,
 "nbformat_minor": 5
}
